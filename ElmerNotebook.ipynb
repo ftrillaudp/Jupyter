{
 "cells": [
  {
   "cell_type": "markdown",
   "id": "49fbeccf",
   "metadata": {},
   "source": [
    "# Template for Elmerfem notebook\n",
    "\n",
    "This template allows running a Elmerfem case.sif file.\n",
    "\n",
    "The steps are as follows:\n",
    "1. Run the geometry and mesh builder, here [salome platform](https://www.salome-platform.org/)\n",
    "2. Run `ElmerGrid` to convert the mesh format to a readible Elmer format\n",
    "3. Run the case.sif file through the `ElmerSolver`\n",
    "\n"
   ]
  },
  {
   "cell_type": "code",
   "execution_count": null,
   "id": "8a7072c8",
   "metadata": {},
   "outputs": [],
   "source": []
  }
 ],
 "metadata": {
  "kernelspec": {
   "display_name": "Python 3 (ipykernel)",
   "language": "python",
   "name": "python3"
  },
  "language_info": {
   "codemirror_mode": {
    "name": "ipython",
    "version": 3
   },
   "file_extension": ".py",
   "mimetype": "text/x-python",
   "name": "python",
   "nbconvert_exporter": "python",
   "pygments_lexer": "ipython3",
   "version": "3.8.10"
  }
 },
 "nbformat": 4,
 "nbformat_minor": 5
}
