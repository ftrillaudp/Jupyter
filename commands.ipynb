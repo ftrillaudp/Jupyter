{
 "cells": [
  {
   "cell_type": "markdown",
   "metadata": {},
   "source": [
    "# Commands for jupyter notebook\n",
    "\n",
    "## Introduction\n",
    "\n",
    "The following templete demonstrates the different possibilities to use jupyter notebook including text, MathJax, codes, images and videos"
   ]
  },
  {
   "cell_type": "markdown",
   "metadata": {},
   "source": [
    "<!--- Add a section id for cross-reference -->\n",
    "<a id=\"section_Text\"></a>\n",
    "## Text\n",
    "\n",
    "Look at the edit to see how to comment a text. We commented out:<br>\n",
    "\"Commented text (three dash instead of 2 as in html\"\n",
    "<!---  Commented text (three dash instead of 2 as in html. <br> for a new line-->\n",
    "\n",
    "Code in text (\\`):\n",
    "``Use `function` in your Markdown file.``\n",
    "\n",
    "Listings:\n",
    "- item 1\n",
    "- item 2\n",
    "* item 3\n",
    "* item 4\n",
    "1. First item 1\n",
    "2. Second item 2\n",
    "\n",
    "Enumerate:\n",
    "1. item 1\n",
    "2. item 2\n",
    "\n",
    "Blockquote:\n",
    "> blockquote\n",
    ">> nexted blockquote\n",
    "\n",
    "Italic font using \\*hello\\*: *hello*\n",
    "\n",
    "Bold fonts using \\*\\*hello\\*\\*: **hello**\n",
    "\n",
    "Bold and itali fonts using \\*\\*\\*hello\\*\\*\\*: ***hello***\n",
    "\n",
    "Color text (\\* \\* for italic):\n",
    "<span style=\"color:blue\">some *blue* text</span>\n",
    "\n",
    "Do colored boxing around text:\n",
    "<div class=\"alert alert-block alert-info\">\n",
    "<b>Tip:</b> Use blue boxes = alert-info.\n",
    "</div>\n",
    "<div class=\"alert alert-block alert-warning\">\n",
    "<b>Example:</b> Use yellow boxes = alert-warning.\n",
    "</div>\n",
    "<div class=\"alert alert-block alert-success\">\n",
    "<b>Success:</b> Use green boxes = alert-success.\n",
    "</div>\n",
    "<div class=\"alert alert-block alert-danger\">\n",
    "<b>Not to be used in general:</b> Red box: alert-danger.\n",
    "</div>\n",
    "\n",
    "Draw a horizontal line:\n",
    "***\n",
    "or for more control:\n",
    "<hr style=\"border:2px solid blue\">\n",
    "\n",
    "\\begin{align}\n",
    "\\dot{x} & = \\sigma(y-x) \\\\\n",
    "\\dot{y} & = \\rho x - y - xz \\\\\n",
    "\\dot{z} & = -\\beta z + xy\n",
    "\\end{align}\n",
    "\n",
    "This expression $\\sqrt{3x-1}+(1+x)^2$ is an example of a TeX inline equation in a [Markdown-formatted](https://daringfireball.net/projects/markdown/) sentence."
   ]
  },
  {
   "cell_type": "markdown",
   "metadata": {},
   "source": [
    "Test of jupyter notebook"
   ]
  },
  {
   "cell_type": "code",
   "execution_count": 1,
   "metadata": {},
   "outputs": [
    {
     "name": "stdout",
     "output_type": "stream",
     "text": [
      "a 0\n"
     ]
    }
   ],
   "source": [
    "a = 0\n",
    "print(\"a\", a)"
   ]
  },
  {
   "cell_type": "code",
   "execution_count": null,
   "metadata": {},
   "outputs": [],
   "source": []
  }
 ],
 "metadata": {
  "kernelspec": {
   "display_name": "Python 3 (ipykernel)",
   "language": "python",
   "name": "python3"
  },
  "language_info": {
   "codemirror_mode": {
    "name": "ipython",
    "version": 3
   },
   "file_extension": ".py",
   "mimetype": "text/x-python",
   "name": "python",
   "nbconvert_exporter": "python",
   "pygments_lexer": "ipython3",
   "version": "3.8.10"
  }
 },
 "nbformat": 4,
 "nbformat_minor": 4
}
